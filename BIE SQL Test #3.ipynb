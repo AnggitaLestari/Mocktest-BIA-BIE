{
 "cells": [
  {
   "cell_type": "code",
   "execution_count": null,
   "metadata": {},
   "outputs": [],
   "source": [
    "SELECT n.name\n",
    "FROM neighborhoods n\n",
    "LEFT JOIN users u ON n.id = u.neighborhood_id\n",
    "WHERE u.id IS NULL"
   ]
  }
 ],
 "metadata": {
  "language_info": {
   "name": "python"
  }
 },
 "nbformat": 4,
 "nbformat_minor": 2
}
