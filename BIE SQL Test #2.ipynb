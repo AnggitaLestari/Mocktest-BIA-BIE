{
 "cells": [
  {
   "cell_type": "code",
   "execution_count": null,
   "metadata": {},
   "outputs": [],
   "source": [
    "WITH ranked_salaries AS (\n",
    "  SELECT \n",
    "    e.salary,\n",
    "    DENSE_RANK() OVER (ORDER BY e.salary DESC) as salary_rank\n",
    "  FROM \n",
    "    employees e\n",
    "  JOIN \n",
    "    departments d ON e.department_id = d.id\n",
    "  WHERE \n",
    "    d.name = 'engineering'\n",
    ")\n",
    "SELECT salary\n",
    "FROM ranked_salaries\n",
    "WHERE salary_rank = 2\n",
    "LIMIT 1"
   ]
  }
 ],
 "metadata": {
  "language_info": {
   "name": "python"
  }
 },
 "nbformat": 4,
 "nbformat_minor": 2
}
