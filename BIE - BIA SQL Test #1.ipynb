{
 "cells": [
  {
   "cell_type": "code",
   "execution_count": 18,
   "metadata": {},
   "outputs": [],
   "source": [
    "#### Load CSV ke Postgresql\n",
    "\n",
    "import pandas as pd\n",
    "from sqlalchemy import create_engine\n",
    "import re\n",
    "\n"
   ]
  },
  {
   "cell_type": "code",
   "execution_count": 19,
   "metadata": {},
   "outputs": [],
   "source": [
    "engine = create_engine('postgresql://postgres:[Passwordxxx]:1111/superstore')\n"
   ]
  },
  {
   "cell_type": "code",
   "execution_count": 20,
   "metadata": {},
   "outputs": [
    {
     "name": "stdout",
     "output_type": "stream",
     "text": [
      "Data dari categories.csv berhasil dimuat ke tabel categories\n",
      "Kolom yang diformat: product_id, category, subcategory, product_name\n",
      "Data dari customer.csv berhasil dimuat ke tabel customer\n",
      "Kolom yang diformat: customer_id, customer_name, segment\n",
      "Data dari orders.csv berhasil dimuat ke tabel orders\n",
      "Kolom yang diformat: row_id, order_id, order_date, ship_date, ship_mode, customer_id, country, city, state, postal_code, region, product_id, sales, quantity, discount, profit\n",
      "Semua data berhasil dimuat ke PostgreSQL\n"
     ]
    }
   ],
   "source": [
    "def format_name(name):\n",
    "    # Ubah ke huruf kecil\n",
    "    name = name.lower()\n",
    "    # Ganti spasi dengan garis bawah\n",
    "    name = name.replace(' ', '_')\n",
    "    # Hapus karakter khusus kecuali garis bawah\n",
    "    name = re.sub(r'[^\\w_]', '', name)\n",
    "    return name\n",
    "\n",
    "def load_csv_to_postgresql(file_path, table_name):\n",
    "    df = pd.read_csv(file_path)\n",
    "    \n",
    "    # Format nama tabel\n",
    "    formatted_table_name = format_name(table_name)\n",
    "    \n",
    "    # Format nama kolom\n",
    "    df.columns = [format_name(col) for col in df.columns]\n",
    "    \n",
    "    df.to_sql(formatted_table_name, engine, if_exists='replace', index=False)\n",
    "    print(f\"Data dari {file_path} berhasil dimuat ke tabel {formatted_table_name}\")\n",
    "    print(f\"Kolom yang diformat: {', '.join(df.columns)}\")\n",
    "\n",
    "# Daftar file CSV dan nama tabel yang sesuai\n",
    "csv_files = [\n",
    "    ('categories.csv', 'categories'),\n",
    "    ('customer.csv', 'customer'),\n",
    "    ('orders.csv', 'orders')\n",
    "]\n",
    "\n",
    "# Memuat setiap file CSV ke tabel yang sesuai\n",
    "for file_path, table_name in csv_files:\n",
    "    load_csv_to_postgresql(file_path, table_name)\n",
    "\n",
    "print(\"Semua data berhasil dimuat ke PostgreSQL\")"
   ]
  }
 ],
 "metadata": {
  "kernelspec": {
   "display_name": "Python 3",
   "language": "python",
   "name": "python3"
  },
  "language_info": {
   "codemirror_mode": {
    "name": "ipython",
    "version": 3
   },
   "file_extension": ".py",
   "mimetype": "text/x-python",
   "name": "python",
   "nbconvert_exporter": "python",
   "pygments_lexer": "ipython3",
   "version": "3.12.4"
  }
 },
 "nbformat": 4,
 "nbformat_minor": 2
}
